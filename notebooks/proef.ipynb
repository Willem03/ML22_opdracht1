{
 "cells": [
  {
   "cell_type": "code",
   "execution_count": 9,
   "metadata": {},
   "outputs": [],
   "source": [
    "import gin\n",
    "import torch\n",
    "from torch import nn\n",
    "import torch.optim as optim\n",
    "from torchinfo import summary"
   ]
  },
  {
   "cell_type": "code",
   "execution_count": 16,
   "metadata": {},
   "outputs": [
    {
     "name": "stdout",
     "output_type": "stream",
     "text": [
      "Using cpu device\n"
     ]
    }
   ],
   "source": [
    "# Get cpu or gpu device for training.\n",
    "device = \"cuda\" if torch.cuda.is_available() else \"cpu\"\n",
    "print(f\"Using {device} device\")\n"
   ]
  },
  {
   "cell_type": "code",
   "execution_count": 79,
   "metadata": {},
   "outputs": [],
   "source": [
    "#@gin.configurable\n",
    "class CNN(nn.Module):\n",
    "    def __init__(\n",
    "        self, num_classes: int, kernel_size: int, filter1: int, filter2: int\n",
    "    ) -> None:\n",
    "        super().__init__()\n",
    "\n",
    "        self.convolutions = nn.Sequential(\n",
    "            nn.Conv2d(1, filter1, kernel_size=kernel_size, stride=1, padding=1),\n",
    "            nn.ReLU(),\n",
    "            nn.MaxPool2d(kernel_size=2),\n",
    "            \n",
    "            nn.Conv2d(filter1, filter2, kernel_size=kernel_size, stride=1, padding=0),\n",
    "            nn.ReLU(),\n",
    "            nn.MaxPool2d(kernel_size=2),\n",
    "            \n",
    "            nn.Conv2d(filter2, 32, kernel_size=kernel_size, stride=1, padding=0),\n",
    "            nn.ReLU(),\n",
    "            nn.MaxPool2d(kernel_size=2),\n",
    "\n",
    "            #nn.Conv2d(filter2, 32, kernel_size=kernel_size, stride=1, padding=0),\n",
    "            #nn.ReLU(),\n",
    "            #nn.MaxPool2d(kernel_size=2),\n",
    "        )\n",
    "\n",
    "        self.dense = nn.Sequential(\n",
    "            nn.Flatten(),\n",
    "            nn.Linear(128, 64),\n",
    "            nn.ReLU(),\n",
    "            nn.Linear(64, 32),\n",
    "            nn.ReLU(),\n",
    "            nn.Linear(32, num_classes),\n",
    "        )\n",
    "\n",
    "    def forward(self, x: torch.Tensor) -> torch.Tensor:\n",
    "        x = self.convolutions(x)\n",
    "        logits = self.dense(x)\n",
    "        return logits\n"
   ]
  },
  {
   "cell_type": "code",
   "execution_count": null,
   "metadata": {},
   "outputs": [],
   "source": [
    "gin.parse_config_file(\"model.gin\")"
   ]
  },
  {
   "cell_type": "code",
   "execution_count": 82,
   "metadata": {},
   "outputs": [
    {
     "data": {
      "text/plain": [
       "==========================================================================================\n",
       "Layer (type:depth-idx)                   Output Shape              Param #\n",
       "==========================================================================================\n",
       "CNN                                      [64, 10]                  --\n",
       "├─Sequential: 1-1                        [64, 32, 2, 2]            --\n",
       "│    └─Conv2d: 2-1                       [64, 32, 28, 28]          320\n",
       "│    └─ReLU: 2-2                         [64, 32, 28, 28]          --\n",
       "│    └─MaxPool2d: 2-3                    [64, 32, 14, 14]          --\n",
       "│    └─Conv2d: 2-4                       [64, 32, 12, 12]          9,248\n",
       "│    └─ReLU: 2-5                         [64, 32, 12, 12]          --\n",
       "│    └─MaxPool2d: 2-6                    [64, 32, 6, 6]            --\n",
       "│    └─Conv2d: 2-7                       [64, 32, 4, 4]            9,248\n",
       "│    └─ReLU: 2-8                         [64, 32, 4, 4]            --\n",
       "│    └─MaxPool2d: 2-9                    [64, 32, 2, 2]            --\n",
       "├─Sequential: 1-2                        [64, 10]                  --\n",
       "│    └─Flatten: 2-10                     [64, 128]                 --\n",
       "│    └─Linear: 2-11                      [64, 64]                  8,256\n",
       "│    └─ReLU: 2-12                        [64, 64]                  --\n",
       "│    └─Linear: 2-13                      [64, 32]                  2,080\n",
       "│    └─ReLU: 2-14                        [64, 32]                  --\n",
       "│    └─Linear: 2-15                      [64, 10]                  330\n",
       "==========================================================================================\n",
       "Total params: 29,482\n",
       "Trainable params: 29,482\n",
       "Non-trainable params: 0\n",
       "Total mult-adds (M): 111.44\n",
       "==========================================================================================\n",
       "Input size (MB): 0.20\n",
       "Forward/backward pass size (MB): 15.52\n",
       "Params size (MB): 0.12\n",
       "Estimated Total Size (MB): 15.84\n",
       "=========================================================================================="
      ]
     },
     "execution_count": 82,
     "metadata": {},
     "output_type": "execute_result"
    }
   ],
   "source": [
    "# 15 = aantal classes, 3 = kernel_size, 32 = grootte filter 1, 32 = grootte  filter2\n",
    "\n",
    "model = CNN(10, 3, 32,32).to(device)\n",
    "#print(model)\n",
    "summary(model, input_size=(64, 1, 28, 28))"
   ]
  },
  {
   "cell_type": "code",
   "execution_count": null,
   "metadata": {},
   "outputs": [],
   "source": []
  },
  {
   "cell_type": "code",
   "execution_count": null,
   "metadata": {},
   "outputs": [],
   "source": []
  }
 ],
 "metadata": {
  "kernelspec": {
   "display_name": "deep-learning-mwI8DU6x-py3.9",
   "language": "python",
   "name": "python3"
  },
  "language_info": {
   "codemirror_mode": {
    "name": "ipython",
    "version": 3
   },
   "file_extension": ".py",
   "mimetype": "text/x-python",
   "name": "python",
   "nbconvert_exporter": "python",
   "pygments_lexer": "ipython3",
   "version": "3.9.12"
  },
  "orig_nbformat": 4,
  "vscode": {
   "interpreter": {
    "hash": "5829ab1a7438afd0eb3e39a540a9bafca59bf334debab56f2c37d99237ff203a"
   }
  }
 },
 "nbformat": 4,
 "nbformat_minor": 2
}
